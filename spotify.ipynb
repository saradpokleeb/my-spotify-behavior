{
 "cells": [
  {
   "cell_type": "markdown",
   "source": [
    "# Analyze My Spotify Streaming History."
   ],
   "metadata": {}
  },
  {
   "cell_type": "markdown",
   "source": [
    "Main purpose of this project is to practicing data scraping and data manipulating with pandas(a little bit of visualization) with python language.\r\n",
    "\r\n",
    "The data is my listening history which i requested from Spotify.\r\n",
    "You can get yourself one from this link : https://www.spotify.com/us/account/privacy/"
   ],
   "metadata": {}
  },
  {
   "cell_type": "markdown",
   "source": [
    "### Import data"
   ],
   "metadata": {}
  },
  {
   "cell_type": "code",
   "execution_count": 1,
   "source": [
    "import pandas as pd"
   ],
   "outputs": [],
   "metadata": {}
  },
  {
   "cell_type": "code",
   "execution_count": 2,
   "source": [
    "spotify = pd.read_csv(r'C:\\Users\\Administrator\\Desktop\\project\\spotify\\Streaming_history.csv')"
   ],
   "outputs": [],
   "metadata": {}
  },
  {
   "cell_type": "markdown",
   "source": [
    "have a look at the data"
   ],
   "metadata": {}
  },
  {
   "cell_type": "code",
   "execution_count": 3,
   "source": [
    "spotify.info()"
   ],
   "outputs": [
    {
     "output_type": "stream",
     "name": "stdout",
     "text": [
      "<class 'pandas.core.frame.DataFrame'>\n",
      "RangeIndex: 19503 entries, 0 to 19502\n",
      "Data columns (total 4 columns):\n",
      " #   Column      Non-Null Count  Dtype \n",
      "---  ------      --------------  ----- \n",
      " 0   endTime     19503 non-null  object\n",
      " 1   artistName  19503 non-null  object\n",
      " 2   trackName   19503 non-null  object\n",
      " 3   msPlayed    19503 non-null  int64 \n",
      "dtypes: int64(1), object(3)\n",
      "memory usage: 609.6+ KB\n"
     ]
    }
   ],
   "metadata": {}
  },
  {
   "cell_type": "code",
   "execution_count": 4,
   "source": [
    "print(spotify.head(5))"
   ],
   "outputs": [
    {
     "output_type": "stream",
     "name": "stdout",
     "text": [
      "            endTime artistName                                    trackName  \\\n",
      "0  2020-02-07 05:50   ILLENIUM                                      Leaving   \n",
      "1  2020-06-02 19:19      Nurko                                 Till the End   \n",
      "2  2020-06-03 10:28      Ekali  Hard To Say Goodbye (feat. Chloe Angelides)   \n",
      "3  2020-06-03 10:31      Ekali                         Leaving (feat. Yuna)   \n",
      "4  2020-06-03 10:34      Ekali                                        Blame   \n",
      "\n",
      "   msPlayed  \n",
      "0    157614  \n",
      "1    185490  \n",
      "2    195817  \n",
      "3    175851  \n",
      "4      6351  \n"
     ]
    }
   ],
   "metadata": {}
  },
  {
   "cell_type": "markdown",
   "source": [
    "## Find genre for each artist.\r\n",
    "\r\n",
    "Web Scraping method will be used to get genre data from each artist by get a tag element from  Last.fm website."
   ],
   "metadata": {}
  },
  {
   "cell_type": "markdown",
   "source": [
    "Before geting a tag of artist, I have to find a pattern of Url which can be used with every artist. I found that the pattern is https://www.last.fm/music/ followed by artist_name and the artist with multiple words will use '+' instead of spacing."
   ],
   "metadata": {}
  },
  {
   "cell_type": "code",
   "execution_count": 5,
   "source": [
    "# make a list of artist name that replaced spacing with plus sign(+)\r\n",
    "artists = []\r\n",
    "for a in spotify['artistName']:\r\n",
    "    a= a.replace(' ','+')\r\n",
    "    if a not in artists :\r\n",
    "        artists.append(a)\r\n",
    "    else:\r\n",
    "        pass"
   ],
   "outputs": [],
   "metadata": {}
  },
  {
   "cell_type": "markdown",
   "source": [
    "start web scraping."
   ],
   "metadata": {}
  },
  {
   "cell_type": "code",
   "execution_count": 6,
   "source": [
    "import requests\r\n",
    "from bs4 import BeautifulSoup"
   ],
   "outputs": [],
   "metadata": {}
  },
  {
   "cell_type": "code",
   "execution_count": 7,
   "source": [
    "artist_tag ={}\r\n",
    "\r\n",
    "for artist in artists:\r\n",
    "    request_lastfm = requests.get('https://www.last.fm/music/'+artist)\r\n",
    "    content_lastfm = request_lastfm.content\r\n",
    "    lastfm = BeautifulSoup(content_lastfm,'html.parser')\r\n",
    "    tags = lastfm.find_all(\"li\",class_=\"tag\")\r\n",
    "    artist_tag[artist]=[]\r\n",
    "    for t in tags:\r\n",
    "        artist_tag[artist].append(t.text)\r\n",
    "    artist_tag[artist].sort()"
   ],
   "outputs": [],
   "metadata": {}
  },
  {
   "cell_type": "markdown",
   "source": [
    "have a look at data."
   ],
   "metadata": {}
  },
  {
   "cell_type": "code",
   "execution_count": 8,
   "source": [
    "import itertools\r\n",
    "dict(itertools.islice(artist_tag.items(), 10))"
   ],
   "outputs": [
    {
     "output_type": "execute_result",
     "data": {
      "text/plain": [
       "{'ILLENIUM': ['dubstep',\n",
       "  'edm',\n",
       "  'electronic',\n",
       "  'future bass',\n",
       "  'melodic dubstep'],\n",
       " 'Nurko': ['american',\n",
       "  'dubstep',\n",
       "  'electronic',\n",
       "  'melodic bass',\n",
       "  'united states'],\n",
       " 'Ekali': ['chill trap', 'electronic', 'pop', 'rap', 'trap'],\n",
       " 'Wafia': ['australian', 'chill pop', 'indie pop', 'pop', 'soul'],\n",
       " 'RL+Grime': ['beats', 'electronic', 'experimental', 'trap'],\n",
       " 'Kaivon': ['american',\n",
       "  'chillwave',\n",
       "  'electronic',\n",
       "  'electronic superhighway',\n",
       "  'united states'],\n",
       " 'SLANDER': ['brostep', 'hardcore', 'heavy metal', 'nwobhm', 'thrash metal'],\n",
       " 'Just+A+Gent': ['dubstep', 'electronic', 'fix with pro', 'lovetrap', 'trap'],\n",
       " 'Jauz': ['electro', 'electronic', 'house', 'trap'],\n",
       " 'DROELOE': ['discover weekly', 'dutch', 'electronic', 'future bass', 'trap']}"
      ]
     },
     "metadata": {},
     "execution_count": 8
    }
   ],
   "metadata": {}
  },
  {
   "cell_type": "markdown",
   "source": [
    " Remove plus sign from Artist name."
   ],
   "metadata": {}
  },
  {
   "cell_type": "code",
   "execution_count": 9,
   "source": [
    "artist_tag_fixed = {}\r\n",
    "for a in artist_tag:\r\n",
    "    artist_tag_fixed[a.replace('+',' ')] = artist_tag[a]"
   ],
   "outputs": [],
   "metadata": {}
  },
  {
   "cell_type": "markdown",
   "source": [
    "Some artists don't have tag and some have few which can be problem when make a table with this data.\r\n",
    "Therefore,i add tag data with 'Null' instead until each of them have 5 tags (maximun amount of tags that the website can provide)"
   ],
   "metadata": {}
  },
  {
   "cell_type": "code",
   "execution_count": 10,
   "source": [
    "for a in artist_tag_fixed:\r\n",
    "    while len(artist_tag_fixed[a]) <5:\r\n",
    "        artist_tag_fixed[a].append('Null')\r\n",
    "        if len(artist_tag_fixed[a]) == 5:\r\n",
    "            break     "
   ],
   "outputs": [],
   "metadata": {}
  },
  {
   "cell_type": "code",
   "execution_count": 11,
   "source": [
    "#Recheck for confirmation\r\n",
    "check = 0\r\n",
    "for a in artist_tag_fixed.keys():\r\n",
    "    if ' ' in a:\r\n",
    "        print(a)\r\n",
    "        check +=  1\r\n",
    "        if check == 10:\r\n",
    "            break"
   ],
   "outputs": [
    {
     "output_type": "stream",
     "name": "stdout",
     "text": [
      "RL Grime\n",
      "Just A Gent\n",
      "William Black\n",
      "Jarryd James\n",
      "Crystal Skies\n",
      "Seven Lions\n",
      "เหวย เหวย ฮัน\n",
      "Mola Mola Sunshine!\n",
      "Chilling Sunday\n",
      "Tom Misch\n"
     ]
    }
   ],
   "metadata": {}
  },
  {
   "cell_type": "markdown",
   "source": [
    "### Create table with the data."
   ],
   "metadata": {}
  },
  {
   "cell_type": "code",
   "execution_count": 12,
   "source": [
    "artist_tag_table = pd.DataFrame.from_dict(artist_tag_fixed,orient = 'index')\r\n",
    "artist_tag_table.reset_index(inplace=True)\r\n",
    "artist_tag_table.columns = ['artistName','tag_1','tag_2','tag_3','tag_4','tag_5']\r\n",
    "artist_tag_table\r\n"
   ],
   "outputs": [
    {
     "output_type": "execute_result",
     "data": {
      "text/plain": [
       "                 artistName       tag_1                tag_2  \\\n",
       "0                  ILLENIUM     dubstep                  edm   \n",
       "1                     Nurko    american              dubstep   \n",
       "2                     Ekali  chill trap           electronic   \n",
       "3                     Wafia  australian            chill pop   \n",
       "4                  RL Grime       beats           electronic   \n",
       "...                     ...         ...                  ...   \n",
       "2209  The Devil Wears Prada   christian  christian metalcore   \n",
       "2210       Brief Audio Book        Null                 Null   \n",
       "2211                 SPRITE    chillout           electronic   \n",
       "2212               OG BOBBY        Null                 Null   \n",
       "2213             Carpenters         70s       easy listening   \n",
       "\n",
       "                 tag_3         tag_4            tag_5  \n",
       "0           electronic   future bass  melodic dubstep  \n",
       "1           electronic  melodic bass    united states  \n",
       "2                  pop           rap             trap  \n",
       "3            indie pop           pop             soul  \n",
       "4         experimental          trap             Null  \n",
       "...                ...           ...              ...  \n",
       "2209          hardcore     metalcore          screamo  \n",
       "2210              Null          Null             Null  \n",
       "2211        soundtrack          trap             wave  \n",
       "2212              Null          Null             Null  \n",
       "2213  female vocalists        oldies              pop  \n",
       "\n",
       "[2214 rows x 6 columns]"
      ],
      "text/html": [
       "<div>\n",
       "<style scoped>\n",
       "    .dataframe tbody tr th:only-of-type {\n",
       "        vertical-align: middle;\n",
       "    }\n",
       "\n",
       "    .dataframe tbody tr th {\n",
       "        vertical-align: top;\n",
       "    }\n",
       "\n",
       "    .dataframe thead th {\n",
       "        text-align: right;\n",
       "    }\n",
       "</style>\n",
       "<table border=\"1\" class=\"dataframe\">\n",
       "  <thead>\n",
       "    <tr style=\"text-align: right;\">\n",
       "      <th></th>\n",
       "      <th>artistName</th>\n",
       "      <th>tag_1</th>\n",
       "      <th>tag_2</th>\n",
       "      <th>tag_3</th>\n",
       "      <th>tag_4</th>\n",
       "      <th>tag_5</th>\n",
       "    </tr>\n",
       "  </thead>\n",
       "  <tbody>\n",
       "    <tr>\n",
       "      <th>0</th>\n",
       "      <td>ILLENIUM</td>\n",
       "      <td>dubstep</td>\n",
       "      <td>edm</td>\n",
       "      <td>electronic</td>\n",
       "      <td>future bass</td>\n",
       "      <td>melodic dubstep</td>\n",
       "    </tr>\n",
       "    <tr>\n",
       "      <th>1</th>\n",
       "      <td>Nurko</td>\n",
       "      <td>american</td>\n",
       "      <td>dubstep</td>\n",
       "      <td>electronic</td>\n",
       "      <td>melodic bass</td>\n",
       "      <td>united states</td>\n",
       "    </tr>\n",
       "    <tr>\n",
       "      <th>2</th>\n",
       "      <td>Ekali</td>\n",
       "      <td>chill trap</td>\n",
       "      <td>electronic</td>\n",
       "      <td>pop</td>\n",
       "      <td>rap</td>\n",
       "      <td>trap</td>\n",
       "    </tr>\n",
       "    <tr>\n",
       "      <th>3</th>\n",
       "      <td>Wafia</td>\n",
       "      <td>australian</td>\n",
       "      <td>chill pop</td>\n",
       "      <td>indie pop</td>\n",
       "      <td>pop</td>\n",
       "      <td>soul</td>\n",
       "    </tr>\n",
       "    <tr>\n",
       "      <th>4</th>\n",
       "      <td>RL Grime</td>\n",
       "      <td>beats</td>\n",
       "      <td>electronic</td>\n",
       "      <td>experimental</td>\n",
       "      <td>trap</td>\n",
       "      <td>Null</td>\n",
       "    </tr>\n",
       "    <tr>\n",
       "      <th>...</th>\n",
       "      <td>...</td>\n",
       "      <td>...</td>\n",
       "      <td>...</td>\n",
       "      <td>...</td>\n",
       "      <td>...</td>\n",
       "      <td>...</td>\n",
       "    </tr>\n",
       "    <tr>\n",
       "      <th>2209</th>\n",
       "      <td>The Devil Wears Prada</td>\n",
       "      <td>christian</td>\n",
       "      <td>christian metalcore</td>\n",
       "      <td>hardcore</td>\n",
       "      <td>metalcore</td>\n",
       "      <td>screamo</td>\n",
       "    </tr>\n",
       "    <tr>\n",
       "      <th>2210</th>\n",
       "      <td>Brief Audio Book</td>\n",
       "      <td>Null</td>\n",
       "      <td>Null</td>\n",
       "      <td>Null</td>\n",
       "      <td>Null</td>\n",
       "      <td>Null</td>\n",
       "    </tr>\n",
       "    <tr>\n",
       "      <th>2211</th>\n",
       "      <td>SPRITE</td>\n",
       "      <td>chillout</td>\n",
       "      <td>electronic</td>\n",
       "      <td>soundtrack</td>\n",
       "      <td>trap</td>\n",
       "      <td>wave</td>\n",
       "    </tr>\n",
       "    <tr>\n",
       "      <th>2212</th>\n",
       "      <td>OG BOBBY</td>\n",
       "      <td>Null</td>\n",
       "      <td>Null</td>\n",
       "      <td>Null</td>\n",
       "      <td>Null</td>\n",
       "      <td>Null</td>\n",
       "    </tr>\n",
       "    <tr>\n",
       "      <th>2213</th>\n",
       "      <td>Carpenters</td>\n",
       "      <td>70s</td>\n",
       "      <td>easy listening</td>\n",
       "      <td>female vocalists</td>\n",
       "      <td>oldies</td>\n",
       "      <td>pop</td>\n",
       "    </tr>\n",
       "  </tbody>\n",
       "</table>\n",
       "<p>2214 rows × 6 columns</p>\n",
       "</div>"
      ]
     },
     "metadata": {},
     "execution_count": 12
    }
   ],
   "metadata": {}
  },
  {
   "cell_type": "markdown",
   "source": [
    "# Find my top 10 genre, artists, and songs\r\n"
   ],
   "metadata": {}
  },
  {
   "cell_type": "markdown",
   "source": [
    "## Top 10 genre from artists"
   ],
   "metadata": {}
  },
  {
   "cell_type": "code",
   "execution_count": 13,
   "source": [
    "tag_dict={}\r\n",
    "for a in artist_tag_table.iloc[:,1:6]:\r\n",
    "    for b in artist_tag_table[a]:\r\n",
    "        if b !='Null':\r\n",
    "            if b in tag_dict :\r\n",
    "                tag_dict[b] += 1\r\n",
    "            else:\r\n",
    "                tag_dict[b] = 1\r\n",
    "\r\n",
    "dict(itertools.islice(tag_dict.items(), 10))"
   ],
   "outputs": [
    {
     "output_type": "execute_result",
     "data": {
      "text/plain": [
       "{'dubstep': 141,\n",
       " 'american': 85,\n",
       " 'chill trap': 3,\n",
       " 'australian': 32,\n",
       " 'beats': 22,\n",
       " 'brostep': 30,\n",
       " 'electro': 58,\n",
       " 'discover weekly': 17,\n",
       " 'dance': 119,\n",
       " 'hard rock': 20}"
      ]
     },
     "metadata": {},
     "execution_count": 13
    }
   ],
   "metadata": {}
  },
  {
   "cell_type": "code",
   "execution_count": 14,
   "source": [
    "top_tag = pd.DataFrame.from_dict(tag_dict,orient='index')\r\n",
    "top_tag.columns = ['artists']\r\n",
    "top_tag = top_tag.sort_values(by='artists',ascending=False)\r\n",
    "top_tag.head(10)\r\n"
   ],
   "outputs": [
    {
     "output_type": "execute_result",
     "data": {
      "text/plain": [
       "            artists\n",
       "electronic      528\n",
       "pop             323\n",
       "indie           250\n",
       "hip-hop         194\n",
       "house           170\n",
       "ambient         155\n",
       "rnb             151\n",
       "rap             149\n",
       "trap            144\n",
       "dubstep         141"
      ],
      "text/html": [
       "<div>\n",
       "<style scoped>\n",
       "    .dataframe tbody tr th:only-of-type {\n",
       "        vertical-align: middle;\n",
       "    }\n",
       "\n",
       "    .dataframe tbody tr th {\n",
       "        vertical-align: top;\n",
       "    }\n",
       "\n",
       "    .dataframe thead th {\n",
       "        text-align: right;\n",
       "    }\n",
       "</style>\n",
       "<table border=\"1\" class=\"dataframe\">\n",
       "  <thead>\n",
       "    <tr style=\"text-align: right;\">\n",
       "      <th></th>\n",
       "      <th>artists</th>\n",
       "    </tr>\n",
       "  </thead>\n",
       "  <tbody>\n",
       "    <tr>\n",
       "      <th>electronic</th>\n",
       "      <td>528</td>\n",
       "    </tr>\n",
       "    <tr>\n",
       "      <th>pop</th>\n",
       "      <td>323</td>\n",
       "    </tr>\n",
       "    <tr>\n",
       "      <th>indie</th>\n",
       "      <td>250</td>\n",
       "    </tr>\n",
       "    <tr>\n",
       "      <th>hip-hop</th>\n",
       "      <td>194</td>\n",
       "    </tr>\n",
       "    <tr>\n",
       "      <th>house</th>\n",
       "      <td>170</td>\n",
       "    </tr>\n",
       "    <tr>\n",
       "      <th>ambient</th>\n",
       "      <td>155</td>\n",
       "    </tr>\n",
       "    <tr>\n",
       "      <th>rnb</th>\n",
       "      <td>151</td>\n",
       "    </tr>\n",
       "    <tr>\n",
       "      <th>rap</th>\n",
       "      <td>149</td>\n",
       "    </tr>\n",
       "    <tr>\n",
       "      <th>trap</th>\n",
       "      <td>144</td>\n",
       "    </tr>\n",
       "    <tr>\n",
       "      <th>dubstep</th>\n",
       "      <td>141</td>\n",
       "    </tr>\n",
       "  </tbody>\n",
       "</table>\n",
       "</div>"
      ]
     },
     "metadata": {},
     "execution_count": 14
    }
   ],
   "metadata": {}
  },
  {
   "cell_type": "markdown",
   "source": [
    "## Top 10 artists"
   ],
   "metadata": {}
  },
  {
   "cell_type": "code",
   "execution_count": 15,
   "source": [
    "most_listened = spotify.groupby('artistName')['msPlayed'].sum().sort_values(ascending=False).reset_index()\r\n",
    "most_listened.set_index('artistName',inplace=True)\r\n",
    "most_listened.head()"
   ],
   "outputs": [
    {
     "output_type": "execute_result",
     "data": {
      "text/plain": [
       "              msPlayed\n",
       "artistName            \n",
       "ILLENIUM     166965507\n",
       "Seven Lions   85808451\n",
       "Ekali         72334490\n",
       "RL Grime      70939743\n",
       "SLANDER       62385364"
      ],
      "text/html": [
       "<div>\n",
       "<style scoped>\n",
       "    .dataframe tbody tr th:only-of-type {\n",
       "        vertical-align: middle;\n",
       "    }\n",
       "\n",
       "    .dataframe tbody tr th {\n",
       "        vertical-align: top;\n",
       "    }\n",
       "\n",
       "    .dataframe thead th {\n",
       "        text-align: right;\n",
       "    }\n",
       "</style>\n",
       "<table border=\"1\" class=\"dataframe\">\n",
       "  <thead>\n",
       "    <tr style=\"text-align: right;\">\n",
       "      <th></th>\n",
       "      <th>msPlayed</th>\n",
       "    </tr>\n",
       "    <tr>\n",
       "      <th>artistName</th>\n",
       "      <th></th>\n",
       "    </tr>\n",
       "  </thead>\n",
       "  <tbody>\n",
       "    <tr>\n",
       "      <th>ILLENIUM</th>\n",
       "      <td>166965507</td>\n",
       "    </tr>\n",
       "    <tr>\n",
       "      <th>Seven Lions</th>\n",
       "      <td>85808451</td>\n",
       "    </tr>\n",
       "    <tr>\n",
       "      <th>Ekali</th>\n",
       "      <td>72334490</td>\n",
       "    </tr>\n",
       "    <tr>\n",
       "      <th>RL Grime</th>\n",
       "      <td>70939743</td>\n",
       "    </tr>\n",
       "    <tr>\n",
       "      <th>SLANDER</th>\n",
       "      <td>62385364</td>\n",
       "    </tr>\n",
       "  </tbody>\n",
       "</table>\n",
       "</div>"
      ]
     },
     "metadata": {},
     "execution_count": 15
    }
   ],
   "metadata": {}
  },
  {
   "cell_type": "code",
   "execution_count": 16,
   "source": [
    "most_listened = pd.merge(most_listened,artist_tag_table,how='left',on = 'artistName')\r\n",
    "most_listened = most_listened.iloc[:,:7]\r\n",
    "most_listened['msPlayed'] = most_listened['msPlayed']/6000\r\n",
    "most_listened.rename(columns={'msPlayed':'minutesPlayed'},inplace = True)\r\n",
    "most_listened\r\n"
   ],
   "outputs": [
    {
     "output_type": "execute_result",
     "data": {
      "text/plain": [
       "       artistName  minutesPlayed               tag_1          tag_2  \\\n",
       "0        ILLENIUM   27827.584500             dubstep            edm   \n",
       "1     Seven Lions   14301.408500             dubstep  electro house   \n",
       "2           Ekali   12055.748333          chill trap     electronic   \n",
       "3        RL Grime   11823.290500               beats     electronic   \n",
       "4         SLANDER   10397.560667             brostep       hardcore   \n",
       "...           ...            ...                 ...            ...   \n",
       "2209       Skipit       0.000000                Null           Null   \n",
       "2210     Jupi/ter       0.000000                Null           Null   \n",
       "2211     8percent       0.000000  flowers and plants        numbers   \n",
       "2212  Middle Lane       0.000000                Null           Null   \n",
       "2213    Aqualogic       0.000000                Null           Null   \n",
       "\n",
       "                 tag_3        tag_4            tag_5  \n",
       "0           electronic  future bass  melodic dubstep  \n",
       "1           electronic        house           trance  \n",
       "2                  pop          rap             trap  \n",
       "3         experimental         trap             Null  \n",
       "4          heavy metal       nwobhm     thrash metal  \n",
       "...                ...          ...              ...  \n",
       "2209              Null         Null             Null  \n",
       "2210              Null         Null             Null  \n",
       "2211  sleep and dreams         Null             Null  \n",
       "2212              Null         Null             Null  \n",
       "2213              Null         Null             Null  \n",
       "\n",
       "[2214 rows x 7 columns]"
      ],
      "text/html": [
       "<div>\n",
       "<style scoped>\n",
       "    .dataframe tbody tr th:only-of-type {\n",
       "        vertical-align: middle;\n",
       "    }\n",
       "\n",
       "    .dataframe tbody tr th {\n",
       "        vertical-align: top;\n",
       "    }\n",
       "\n",
       "    .dataframe thead th {\n",
       "        text-align: right;\n",
       "    }\n",
       "</style>\n",
       "<table border=\"1\" class=\"dataframe\">\n",
       "  <thead>\n",
       "    <tr style=\"text-align: right;\">\n",
       "      <th></th>\n",
       "      <th>artistName</th>\n",
       "      <th>minutesPlayed</th>\n",
       "      <th>tag_1</th>\n",
       "      <th>tag_2</th>\n",
       "      <th>tag_3</th>\n",
       "      <th>tag_4</th>\n",
       "      <th>tag_5</th>\n",
       "    </tr>\n",
       "  </thead>\n",
       "  <tbody>\n",
       "    <tr>\n",
       "      <th>0</th>\n",
       "      <td>ILLENIUM</td>\n",
       "      <td>27827.584500</td>\n",
       "      <td>dubstep</td>\n",
       "      <td>edm</td>\n",
       "      <td>electronic</td>\n",
       "      <td>future bass</td>\n",
       "      <td>melodic dubstep</td>\n",
       "    </tr>\n",
       "    <tr>\n",
       "      <th>1</th>\n",
       "      <td>Seven Lions</td>\n",
       "      <td>14301.408500</td>\n",
       "      <td>dubstep</td>\n",
       "      <td>electro house</td>\n",
       "      <td>electronic</td>\n",
       "      <td>house</td>\n",
       "      <td>trance</td>\n",
       "    </tr>\n",
       "    <tr>\n",
       "      <th>2</th>\n",
       "      <td>Ekali</td>\n",
       "      <td>12055.748333</td>\n",
       "      <td>chill trap</td>\n",
       "      <td>electronic</td>\n",
       "      <td>pop</td>\n",
       "      <td>rap</td>\n",
       "      <td>trap</td>\n",
       "    </tr>\n",
       "    <tr>\n",
       "      <th>3</th>\n",
       "      <td>RL Grime</td>\n",
       "      <td>11823.290500</td>\n",
       "      <td>beats</td>\n",
       "      <td>electronic</td>\n",
       "      <td>experimental</td>\n",
       "      <td>trap</td>\n",
       "      <td>Null</td>\n",
       "    </tr>\n",
       "    <tr>\n",
       "      <th>4</th>\n",
       "      <td>SLANDER</td>\n",
       "      <td>10397.560667</td>\n",
       "      <td>brostep</td>\n",
       "      <td>hardcore</td>\n",
       "      <td>heavy metal</td>\n",
       "      <td>nwobhm</td>\n",
       "      <td>thrash metal</td>\n",
       "    </tr>\n",
       "    <tr>\n",
       "      <th>...</th>\n",
       "      <td>...</td>\n",
       "      <td>...</td>\n",
       "      <td>...</td>\n",
       "      <td>...</td>\n",
       "      <td>...</td>\n",
       "      <td>...</td>\n",
       "      <td>...</td>\n",
       "    </tr>\n",
       "    <tr>\n",
       "      <th>2209</th>\n",
       "      <td>Skipit</td>\n",
       "      <td>0.000000</td>\n",
       "      <td>Null</td>\n",
       "      <td>Null</td>\n",
       "      <td>Null</td>\n",
       "      <td>Null</td>\n",
       "      <td>Null</td>\n",
       "    </tr>\n",
       "    <tr>\n",
       "      <th>2210</th>\n",
       "      <td>Jupi/ter</td>\n",
       "      <td>0.000000</td>\n",
       "      <td>Null</td>\n",
       "      <td>Null</td>\n",
       "      <td>Null</td>\n",
       "      <td>Null</td>\n",
       "      <td>Null</td>\n",
       "    </tr>\n",
       "    <tr>\n",
       "      <th>2211</th>\n",
       "      <td>8percent</td>\n",
       "      <td>0.000000</td>\n",
       "      <td>flowers and plants</td>\n",
       "      <td>numbers</td>\n",
       "      <td>sleep and dreams</td>\n",
       "      <td>Null</td>\n",
       "      <td>Null</td>\n",
       "    </tr>\n",
       "    <tr>\n",
       "      <th>2212</th>\n",
       "      <td>Middle Lane</td>\n",
       "      <td>0.000000</td>\n",
       "      <td>Null</td>\n",
       "      <td>Null</td>\n",
       "      <td>Null</td>\n",
       "      <td>Null</td>\n",
       "      <td>Null</td>\n",
       "    </tr>\n",
       "    <tr>\n",
       "      <th>2213</th>\n",
       "      <td>Aqualogic</td>\n",
       "      <td>0.000000</td>\n",
       "      <td>Null</td>\n",
       "      <td>Null</td>\n",
       "      <td>Null</td>\n",
       "      <td>Null</td>\n",
       "      <td>Null</td>\n",
       "    </tr>\n",
       "  </tbody>\n",
       "</table>\n",
       "<p>2214 rows × 7 columns</p>\n",
       "</div>"
      ]
     },
     "metadata": {},
     "execution_count": 16
    }
   ],
   "metadata": {}
  },
  {
   "cell_type": "markdown",
   "source": [
    "## Top 10 Songs"
   ],
   "metadata": {}
  },
  {
   "cell_type": "code",
   "execution_count": 17,
   "source": [
    "top_songs = spotify.groupby('artistName')['trackName'].value_counts().sort_values(ascending=False)\r\n",
    "top_songs = top_songs.to_frame()\r\n",
    "top_songs.columns = ['number_playbacks']\r\n",
    "top_songs"
   ],
   "outputs": [
    {
     "output_type": "execute_result",
     "data": {
      "text/plain": [
       "                                                                number_playbacks\n",
       "artistName        trackName                                                     \n",
       "ILLENIUM          Nightlight                                                 101\n",
       "SLANDER           Potions                                                     89\n",
       "RL Grime          Atoms - Said the Sky Remix                                  86\n",
       "ILLENIUM          In Your Arms (with X Ambassadors)                           82\n",
       "                  Sad Songs (& Said The Sky with Annika Wells)                81\n",
       "...                                                                          ...\n",
       "Jhené Aiko        Triggered - Remix                                            1\n",
       "Jesus Molina      What Is This Thing Called Love                               1\n",
       "                  Night in Tunisia                                             1\n",
       "Jessica Audiffred This Ends Now                                                1\n",
       "須田景凪              veil                                                         1\n",
       "\n",
       "[6584 rows x 1 columns]"
      ],
      "text/html": [
       "<div>\n",
       "<style scoped>\n",
       "    .dataframe tbody tr th:only-of-type {\n",
       "        vertical-align: middle;\n",
       "    }\n",
       "\n",
       "    .dataframe tbody tr th {\n",
       "        vertical-align: top;\n",
       "    }\n",
       "\n",
       "    .dataframe thead th {\n",
       "        text-align: right;\n",
       "    }\n",
       "</style>\n",
       "<table border=\"1\" class=\"dataframe\">\n",
       "  <thead>\n",
       "    <tr style=\"text-align: right;\">\n",
       "      <th></th>\n",
       "      <th></th>\n",
       "      <th>number_playbacks</th>\n",
       "    </tr>\n",
       "    <tr>\n",
       "      <th>artistName</th>\n",
       "      <th>trackName</th>\n",
       "      <th></th>\n",
       "    </tr>\n",
       "  </thead>\n",
       "  <tbody>\n",
       "    <tr>\n",
       "      <th>ILLENIUM</th>\n",
       "      <th>Nightlight</th>\n",
       "      <td>101</td>\n",
       "    </tr>\n",
       "    <tr>\n",
       "      <th>SLANDER</th>\n",
       "      <th>Potions</th>\n",
       "      <td>89</td>\n",
       "    </tr>\n",
       "    <tr>\n",
       "      <th>RL Grime</th>\n",
       "      <th>Atoms - Said the Sky Remix</th>\n",
       "      <td>86</td>\n",
       "    </tr>\n",
       "    <tr>\n",
       "      <th rowspan=\"2\" valign=\"top\">ILLENIUM</th>\n",
       "      <th>In Your Arms (with X Ambassadors)</th>\n",
       "      <td>82</td>\n",
       "    </tr>\n",
       "    <tr>\n",
       "      <th>Sad Songs (&amp; Said The Sky with Annika Wells)</th>\n",
       "      <td>81</td>\n",
       "    </tr>\n",
       "    <tr>\n",
       "      <th>...</th>\n",
       "      <th>...</th>\n",
       "      <td>...</td>\n",
       "    </tr>\n",
       "    <tr>\n",
       "      <th>Jhené Aiko</th>\n",
       "      <th>Triggered - Remix</th>\n",
       "      <td>1</td>\n",
       "    </tr>\n",
       "    <tr>\n",
       "      <th rowspan=\"2\" valign=\"top\">Jesus Molina</th>\n",
       "      <th>What Is This Thing Called Love</th>\n",
       "      <td>1</td>\n",
       "    </tr>\n",
       "    <tr>\n",
       "      <th>Night in Tunisia</th>\n",
       "      <td>1</td>\n",
       "    </tr>\n",
       "    <tr>\n",
       "      <th>Jessica Audiffred</th>\n",
       "      <th>This Ends Now</th>\n",
       "      <td>1</td>\n",
       "    </tr>\n",
       "    <tr>\n",
       "      <th>須田景凪</th>\n",
       "      <th>veil</th>\n",
       "      <td>1</td>\n",
       "    </tr>\n",
       "  </tbody>\n",
       "</table>\n",
       "<p>6584 rows × 1 columns</p>\n",
       "</div>"
      ]
     },
     "metadata": {},
     "execution_count": 17
    }
   ],
   "metadata": {}
  },
  {
   "cell_type": "markdown",
   "source": [
    "# Visualizations\r\n",
    "\r\n",
    "find my favorite-time listening to spotify."
   ],
   "metadata": {}
  },
  {
   "cell_type": "code",
   "execution_count": 18,
   "source": [
    "import matplotlib.pyplot as plt\r\n",
    "%matplotlib inline "
   ],
   "outputs": [],
   "metadata": {}
  },
  {
   "cell_type": "code",
   "execution_count": 19,
   "source": [
    "spotify.info()"
   ],
   "outputs": [
    {
     "output_type": "stream",
     "name": "stdout",
     "text": [
      "<class 'pandas.core.frame.DataFrame'>\n",
      "RangeIndex: 19503 entries, 0 to 19502\n",
      "Data columns (total 4 columns):\n",
      " #   Column      Non-Null Count  Dtype \n",
      "---  ------      --------------  ----- \n",
      " 0   endTime     19503 non-null  object\n",
      " 1   artistName  19503 non-null  object\n",
      " 2   trackName   19503 non-null  object\n",
      " 3   msPlayed    19503 non-null  int64 \n",
      "dtypes: int64(1), object(3)\n",
      "memory usage: 609.6+ KB\n"
     ]
    }
   ],
   "metadata": {}
  },
  {
   "cell_type": "code",
   "execution_count": 20,
   "source": [
    "print(spotify['endTime'].head(10))\r\n",
    "spotify['endTime'].tail(10)"
   ],
   "outputs": [
    {
     "output_type": "stream",
     "name": "stdout",
     "text": [
      "0    2020-02-07 05:50\n",
      "1    2020-06-02 19:19\n",
      "2    2020-06-03 10:28\n",
      "3    2020-06-03 10:31\n",
      "4    2020-06-03 10:34\n",
      "5    2020-06-03 10:34\n",
      "6    2020-06-03 10:39\n",
      "7    2020-06-03 10:42\n",
      "8    2020-06-03 10:45\n",
      "9    2020-06-03 10:48\n",
      "Name: endTime, dtype: object\n"
     ]
    },
    {
     "output_type": "execute_result",
     "data": {
      "text/plain": [
       "19493    2021-06-02 18:53\n",
       "19494    2021-06-02 18:53\n",
       "19495    2021-06-02 18:53\n",
       "19496    2021-06-02 18:53\n",
       "19497    2021-06-02 19:14\n",
       "19498    2021-06-02 19:14\n",
       "19499    2021-06-02 19:14\n",
       "19500    2021-06-02 19:14\n",
       "19501    2021-06-02 19:17\n",
       "19502    2021-06-02 19:20\n",
       "Name: endTime, dtype: object"
      ]
     },
     "metadata": {},
     "execution_count": 20
    }
   ],
   "metadata": {}
  },
  {
   "cell_type": "code",
   "execution_count": 21,
   "source": [
    "spotify['endTime_Hour'] = pd.to_datetime(spotify['endTime']).dt.hour\r\n",
    "spotify['endTime_Hour']"
   ],
   "outputs": [
    {
     "output_type": "execute_result",
     "data": {
      "text/plain": [
       "0         5\n",
       "1        19\n",
       "2        10\n",
       "3        10\n",
       "4        10\n",
       "         ..\n",
       "19498    19\n",
       "19499    19\n",
       "19500    19\n",
       "19501    19\n",
       "19502    19\n",
       "Name: endTime_Hour, Length: 19503, dtype: int64"
      ]
     },
     "metadata": {},
     "execution_count": 21
    }
   ],
   "metadata": {}
  },
  {
   "cell_type": "code",
   "execution_count": 22,
   "source": [
    "listen_time = spotify['endTime_Hour'].value_counts()\r\n",
    "listen_time = listen_time.reset_index()\r\n",
    "listen_time.columns = ['Hour','Song_counts']\r\n",
    "listen_time = listen_time.sort_values(by='Hour')\r\n",
    "listen_time\r\n",
    "\r\n"
   ],
   "outputs": [
    {
     "output_type": "execute_result",
     "data": {
      "text/plain": [
       "    Hour  Song_counts\n",
       "21     0          364\n",
       "23     1          219\n",
       "20     2          413\n",
       "16     3          626\n",
       "15     4          679\n",
       "8      5          998\n",
       "4      6         1114\n",
       "0      7         1427\n",
       "1      8         1400\n",
       "3      9         1131\n",
       "2     10         1172\n",
       "6     11         1098\n",
       "5     12         1111\n",
       "9     13          985\n",
       "7     14         1037\n",
       "14    15          735\n",
       "10    16          839\n",
       "12    17          776\n",
       "11    18          828\n",
       "13    19          748\n",
       "17    20          532\n",
       "18    21          517\n",
       "22    22          340\n",
       "19    23          414"
      ],
      "text/html": [
       "<div>\n",
       "<style scoped>\n",
       "    .dataframe tbody tr th:only-of-type {\n",
       "        vertical-align: middle;\n",
       "    }\n",
       "\n",
       "    .dataframe tbody tr th {\n",
       "        vertical-align: top;\n",
       "    }\n",
       "\n",
       "    .dataframe thead th {\n",
       "        text-align: right;\n",
       "    }\n",
       "</style>\n",
       "<table border=\"1\" class=\"dataframe\">\n",
       "  <thead>\n",
       "    <tr style=\"text-align: right;\">\n",
       "      <th></th>\n",
       "      <th>Hour</th>\n",
       "      <th>Song_counts</th>\n",
       "    </tr>\n",
       "  </thead>\n",
       "  <tbody>\n",
       "    <tr>\n",
       "      <th>21</th>\n",
       "      <td>0</td>\n",
       "      <td>364</td>\n",
       "    </tr>\n",
       "    <tr>\n",
       "      <th>23</th>\n",
       "      <td>1</td>\n",
       "      <td>219</td>\n",
       "    </tr>\n",
       "    <tr>\n",
       "      <th>20</th>\n",
       "      <td>2</td>\n",
       "      <td>413</td>\n",
       "    </tr>\n",
       "    <tr>\n",
       "      <th>16</th>\n",
       "      <td>3</td>\n",
       "      <td>626</td>\n",
       "    </tr>\n",
       "    <tr>\n",
       "      <th>15</th>\n",
       "      <td>4</td>\n",
       "      <td>679</td>\n",
       "    </tr>\n",
       "    <tr>\n",
       "      <th>8</th>\n",
       "      <td>5</td>\n",
       "      <td>998</td>\n",
       "    </tr>\n",
       "    <tr>\n",
       "      <th>4</th>\n",
       "      <td>6</td>\n",
       "      <td>1114</td>\n",
       "    </tr>\n",
       "    <tr>\n",
       "      <th>0</th>\n",
       "      <td>7</td>\n",
       "      <td>1427</td>\n",
       "    </tr>\n",
       "    <tr>\n",
       "      <th>1</th>\n",
       "      <td>8</td>\n",
       "      <td>1400</td>\n",
       "    </tr>\n",
       "    <tr>\n",
       "      <th>3</th>\n",
       "      <td>9</td>\n",
       "      <td>1131</td>\n",
       "    </tr>\n",
       "    <tr>\n",
       "      <th>2</th>\n",
       "      <td>10</td>\n",
       "      <td>1172</td>\n",
       "    </tr>\n",
       "    <tr>\n",
       "      <th>6</th>\n",
       "      <td>11</td>\n",
       "      <td>1098</td>\n",
       "    </tr>\n",
       "    <tr>\n",
       "      <th>5</th>\n",
       "      <td>12</td>\n",
       "      <td>1111</td>\n",
       "    </tr>\n",
       "    <tr>\n",
       "      <th>9</th>\n",
       "      <td>13</td>\n",
       "      <td>985</td>\n",
       "    </tr>\n",
       "    <tr>\n",
       "      <th>7</th>\n",
       "      <td>14</td>\n",
       "      <td>1037</td>\n",
       "    </tr>\n",
       "    <tr>\n",
       "      <th>14</th>\n",
       "      <td>15</td>\n",
       "      <td>735</td>\n",
       "    </tr>\n",
       "    <tr>\n",
       "      <th>10</th>\n",
       "      <td>16</td>\n",
       "      <td>839</td>\n",
       "    </tr>\n",
       "    <tr>\n",
       "      <th>12</th>\n",
       "      <td>17</td>\n",
       "      <td>776</td>\n",
       "    </tr>\n",
       "    <tr>\n",
       "      <th>11</th>\n",
       "      <td>18</td>\n",
       "      <td>828</td>\n",
       "    </tr>\n",
       "    <tr>\n",
       "      <th>13</th>\n",
       "      <td>19</td>\n",
       "      <td>748</td>\n",
       "    </tr>\n",
       "    <tr>\n",
       "      <th>17</th>\n",
       "      <td>20</td>\n",
       "      <td>532</td>\n",
       "    </tr>\n",
       "    <tr>\n",
       "      <th>18</th>\n",
       "      <td>21</td>\n",
       "      <td>517</td>\n",
       "    </tr>\n",
       "    <tr>\n",
       "      <th>22</th>\n",
       "      <td>22</td>\n",
       "      <td>340</td>\n",
       "    </tr>\n",
       "    <tr>\n",
       "      <th>19</th>\n",
       "      <td>23</td>\n",
       "      <td>414</td>\n",
       "    </tr>\n",
       "  </tbody>\n",
       "</table>\n",
       "</div>"
      ]
     },
     "metadata": {},
     "execution_count": 22
    }
   ],
   "metadata": {}
  },
  {
   "cell_type": "code",
   "execution_count": 23,
   "source": [
    "plt.style.use('seaborn')\r\n",
    "bins = [0,4,8,12,16,20,24]\r\n",
    "plt.plot(listen_time.Hour,listen_time.Song_counts)\r\n",
    "plt.title('Listening Behavior in 24-Hours timeline',fontdict={'fontweight':'bold','fontsize': 13})\r\n",
    "plt.xlabel('Time (hour)')\r\n",
    "plt.xticks(bins)\r\n",
    "plt.ylabel('Songs Played')\r\n",
    "plt.show()"
   ],
   "outputs": [
    {
     "output_type": "display_data",
     "data": {
      "text/plain": [
       "<Figure size 576x396 with 1 Axes>"
      ],
      "image/png": "[encoded data removed]"
     },
     "metadata": {}
    }
   ],
   "metadata": {}
  },
  {
   "cell_type": "markdown",
   "source": [
    "Surprisingly, it turn out that i tend to streaming spotify in the morning than the rest. "
   ],
   "metadata": {}
  },
  {
   "cell_type": "code",
   "execution_count": null,
   "source": [],
   "outputs": [],
   "metadata": {}
  },
  {
   "cell_type": "code",
   "execution_count": null,
   "source": [],
   "outputs": [],
   "metadata": {}
  }
 ],
 "metadata": {
  "orig_nbformat": 4,
  "language_info": {
   "name": "python",
   "version": "3.8.10",
   "mimetype": "text/x-python",
   "codemirror_mode": {
    "name": "ipython",
    "version": 3
   },
   "pygments_lexer": "ipython3",
   "nbconvert_exporter": "python",
   "file_extension": ".py"
  },
  "kernelspec": {
   "name": "python3",
   "display_name": "Python 3.8.10 64-bit ('tf': conda)"
  },
  "interpreter": {
   "hash": "dba3af120d23eb77587744cbefce82e04b82718877b913517ea933d14677ebf9"
  }
 },
 "nbformat": 4,
 "nbformat_minor": 2
}